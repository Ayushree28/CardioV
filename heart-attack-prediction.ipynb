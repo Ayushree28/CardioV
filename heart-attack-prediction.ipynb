{
 "cells": [
  {
   "cell_type": "markdown",
   "metadata": {},
   "source": [
    "# Heart Attack Prediction"
   ]
  },
  {
   "cell_type": "markdown",
   "metadata": {},
   "source": [
    "In this model, we try to predict weather a person has more chance or less chance of heart attack\n",
    "\n",
    "Dataset: https://www.kaggle.com/nareshbhat/health-care-data-set-on-heart-attack-possibility\n"
   ]
  },
  {
   "cell_type": "markdown",
   "metadata": {},
   "source": [
    "### Importing Libraries"
   ]
  },
  {
   "cell_type": "code",
   "execution_count": null,
   "metadata": {
    "_cell_guid": "b1076dfc-b9ad-4769-8c92-a6c4dae69d19",
    "_uuid": "8f2839f25d086af736a60e9eeb907d3b93b6e0e5",
    "execution": {
     "iopub.execute_input": "2021-07-18T13:03:41.336535Z",
     "iopub.status.busy": "2021-07-18T13:03:41.336127Z",
     "iopub.status.idle": "2021-07-18T13:03:41.341255Z",
     "shell.execute_reply": "2021-07-18T13:03:41.340379Z",
     "shell.execute_reply.started": "2021-07-18T13:03:41.336499Z"
    }
   },
   "outputs": [],
   "source": [
    "import numpy as np # linear algebra\n",
    "import pandas as pd # data processing, CSV file I/O (e.g. pd.read_csv)\n",
    "import seaborn as sns\n",
    "import matplotlib.pyplot as plt"
   ]
  },
  {
   "cell_type": "markdown",
   "metadata": {},
   "source": [
    "## Importing dataset"
   ]
  },
  {
   "cell_type": "code",
   "execution_count": 11,
   "metadata": {
    "execution": {
     "iopub.execute_input": "2021-07-18T12:35:24.612551Z",
     "iopub.status.busy": "2021-07-18T12:35:24.612077Z",
     "iopub.status.idle": "2021-07-18T12:35:24.736501Z",
     "shell.execute_reply": "2021-07-18T12:35:24.735296Z",
     "shell.execute_reply.started": "2021-07-18T12:35:24.612516Z"
    }
   },
   "outputs": [],
   "source": [
    "data = pd.read_csv('heartAttackPredic.csv')"
   ]
  },
  {
   "cell_type": "code",
   "execution_count": 12,
   "metadata": {
    "execution": {
     "iopub.execute_input": "2021-07-18T12:49:29.156879Z",
     "iopub.status.busy": "2021-07-18T12:49:29.156460Z",
     "iopub.status.idle": "2021-07-18T12:49:29.180486Z",
     "shell.execute_reply": "2021-07-18T12:49:29.179186Z",
     "shell.execute_reply.started": "2021-07-18T12:49:29.156842Z"
    }
   },
   "outputs": [
    {
     "data": {
      "text/html": [
       "<div>\n",
       "<style scoped>\n",
       "    .dataframe tbody tr th:only-of-type {\n",
       "        vertical-align: middle;\n",
       "    }\n",
       "\n",
       "    .dataframe tbody tr th {\n",
       "        vertical-align: top;\n",
       "    }\n",
       "\n",
       "    .dataframe thead th {\n",
       "        text-align: right;\n",
       "    }\n",
       "</style>\n",
       "<table border=\"1\" class=\"dataframe\">\n",
       "  <thead>\n",
       "    <tr style=\"text-align: right;\">\n",
       "      <th></th>\n",
       "      <th>age</th>\n",
       "      <th>sex</th>\n",
       "      <th>cp</th>\n",
       "      <th>trestbps</th>\n",
       "      <th>chol</th>\n",
       "      <th>fbs</th>\n",
       "      <th>restecg</th>\n",
       "      <th>thalach</th>\n",
       "      <th>exang</th>\n",
       "      <th>oldpeak</th>\n",
       "      <th>slope</th>\n",
       "      <th>ca</th>\n",
       "      <th>thal</th>\n",
       "      <th>target</th>\n",
       "    </tr>\n",
       "  </thead>\n",
       "  <tbody>\n",
       "    <tr>\n",
       "      <th>0</th>\n",
       "      <td>63.0</td>\n",
       "      <td>1.0</td>\n",
       "      <td>3.0</td>\n",
       "      <td>145.0</td>\n",
       "      <td>233.0</td>\n",
       "      <td>1.0</td>\n",
       "      <td>0.0</td>\n",
       "      <td>150.0</td>\n",
       "      <td>0.0</td>\n",
       "      <td>2.3</td>\n",
       "      <td>0.0</td>\n",
       "      <td>0.0</td>\n",
       "      <td>1.0</td>\n",
       "      <td>1.0</td>\n",
       "    </tr>\n",
       "    <tr>\n",
       "      <th>1</th>\n",
       "      <td>37.0</td>\n",
       "      <td>1.0</td>\n",
       "      <td>2.0</td>\n",
       "      <td>130.0</td>\n",
       "      <td>250.0</td>\n",
       "      <td>0.0</td>\n",
       "      <td>1.0</td>\n",
       "      <td>187.0</td>\n",
       "      <td>0.0</td>\n",
       "      <td>3.5</td>\n",
       "      <td>0.0</td>\n",
       "      <td>0.0</td>\n",
       "      <td>2.0</td>\n",
       "      <td>1.0</td>\n",
       "    </tr>\n",
       "    <tr>\n",
       "      <th>2</th>\n",
       "      <td>41.0</td>\n",
       "      <td>0.0</td>\n",
       "      <td>1.0</td>\n",
       "      <td>130.0</td>\n",
       "      <td>204.0</td>\n",
       "      <td>0.0</td>\n",
       "      <td>0.0</td>\n",
       "      <td>172.0</td>\n",
       "      <td>0.0</td>\n",
       "      <td>1.4</td>\n",
       "      <td>2.0</td>\n",
       "      <td>0.0</td>\n",
       "      <td>2.0</td>\n",
       "      <td>1.0</td>\n",
       "    </tr>\n",
       "    <tr>\n",
       "      <th>3</th>\n",
       "      <td>56.0</td>\n",
       "      <td>1.0</td>\n",
       "      <td>1.0</td>\n",
       "      <td>120.0</td>\n",
       "      <td>236.0</td>\n",
       "      <td>0.0</td>\n",
       "      <td>1.0</td>\n",
       "      <td>178.0</td>\n",
       "      <td>0.0</td>\n",
       "      <td>0.8</td>\n",
       "      <td>2.0</td>\n",
       "      <td>0.0</td>\n",
       "      <td>2.0</td>\n",
       "      <td>1.0</td>\n",
       "    </tr>\n",
       "    <tr>\n",
       "      <th>4</th>\n",
       "      <td>57.0</td>\n",
       "      <td>0.0</td>\n",
       "      <td>0.0</td>\n",
       "      <td>120.0</td>\n",
       "      <td>354.0</td>\n",
       "      <td>0.0</td>\n",
       "      <td>1.0</td>\n",
       "      <td>163.0</td>\n",
       "      <td>1.0</td>\n",
       "      <td>0.6</td>\n",
       "      <td>2.0</td>\n",
       "      <td>0.0</td>\n",
       "      <td>2.0</td>\n",
       "      <td>1.0</td>\n",
       "    </tr>\n",
       "    <tr>\n",
       "      <th>...</th>\n",
       "      <td>...</td>\n",
       "      <td>...</td>\n",
       "      <td>...</td>\n",
       "      <td>...</td>\n",
       "      <td>...</td>\n",
       "      <td>...</td>\n",
       "      <td>...</td>\n",
       "      <td>...</td>\n",
       "      <td>...</td>\n",
       "      <td>...</td>\n",
       "      <td>...</td>\n",
       "      <td>...</td>\n",
       "      <td>...</td>\n",
       "      <td>...</td>\n",
       "    </tr>\n",
       "    <tr>\n",
       "      <th>3036</th>\n",
       "      <td>57.0</td>\n",
       "      <td>0.0</td>\n",
       "      <td>0.0</td>\n",
       "      <td>140.0</td>\n",
       "      <td>241.0</td>\n",
       "      <td>0.0</td>\n",
       "      <td>1.0</td>\n",
       "      <td>123.0</td>\n",
       "      <td>1.0</td>\n",
       "      <td>0.2</td>\n",
       "      <td>1.0</td>\n",
       "      <td>0.0</td>\n",
       "      <td>3.0</td>\n",
       "      <td>0.0</td>\n",
       "    </tr>\n",
       "    <tr>\n",
       "      <th>3037</th>\n",
       "      <td>45.0</td>\n",
       "      <td>1.0</td>\n",
       "      <td>3.0</td>\n",
       "      <td>110.0</td>\n",
       "      <td>264.0</td>\n",
       "      <td>0.0</td>\n",
       "      <td>1.0</td>\n",
       "      <td>132.0</td>\n",
       "      <td>0.0</td>\n",
       "      <td>1.2</td>\n",
       "      <td>1.0</td>\n",
       "      <td>0.0</td>\n",
       "      <td>3.0</td>\n",
       "      <td>0.0</td>\n",
       "    </tr>\n",
       "    <tr>\n",
       "      <th>3038</th>\n",
       "      <td>68.0</td>\n",
       "      <td>1.0</td>\n",
       "      <td>0.0</td>\n",
       "      <td>144.0</td>\n",
       "      <td>193.0</td>\n",
       "      <td>1.0</td>\n",
       "      <td>1.0</td>\n",
       "      <td>141.0</td>\n",
       "      <td>0.0</td>\n",
       "      <td>3.4</td>\n",
       "      <td>1.0</td>\n",
       "      <td>2.0</td>\n",
       "      <td>3.0</td>\n",
       "      <td>0.0</td>\n",
       "    </tr>\n",
       "    <tr>\n",
       "      <th>3039</th>\n",
       "      <td>57.0</td>\n",
       "      <td>1.0</td>\n",
       "      <td>0.0</td>\n",
       "      <td>130.0</td>\n",
       "      <td>131.0</td>\n",
       "      <td>0.0</td>\n",
       "      <td>1.0</td>\n",
       "      <td>115.0</td>\n",
       "      <td>1.0</td>\n",
       "      <td>1.2</td>\n",
       "      <td>1.0</td>\n",
       "      <td>1.0</td>\n",
       "      <td>3.0</td>\n",
       "      <td>0.0</td>\n",
       "    </tr>\n",
       "    <tr>\n",
       "      <th>3040</th>\n",
       "      <td>57.0</td>\n",
       "      <td>0.0</td>\n",
       "      <td>1.0</td>\n",
       "      <td>130.0</td>\n",
       "      <td>236.0</td>\n",
       "      <td>0.0</td>\n",
       "      <td>0.0</td>\n",
       "      <td>174.0</td>\n",
       "      <td>0.0</td>\n",
       "      <td>0.0</td>\n",
       "      <td>1.0</td>\n",
       "      <td>1.0</td>\n",
       "      <td>2.0</td>\n",
       "      <td>0.0</td>\n",
       "    </tr>\n",
       "  </tbody>\n",
       "</table>\n",
       "<p>3041 rows × 14 columns</p>\n",
       "</div>"
      ],
      "text/plain": [
       "       age  sex   cp  trestbps   chol  fbs  restecg  thalach  exang  oldpeak  \\\n",
       "0     63.0  1.0  3.0     145.0  233.0  1.0      0.0    150.0    0.0      2.3   \n",
       "1     37.0  1.0  2.0     130.0  250.0  0.0      1.0    187.0    0.0      3.5   \n",
       "2     41.0  0.0  1.0     130.0  204.0  0.0      0.0    172.0    0.0      1.4   \n",
       "3     56.0  1.0  1.0     120.0  236.0  0.0      1.0    178.0    0.0      0.8   \n",
       "4     57.0  0.0  0.0     120.0  354.0  0.0      1.0    163.0    1.0      0.6   \n",
       "...    ...  ...  ...       ...    ...  ...      ...      ...    ...      ...   \n",
       "3036  57.0  0.0  0.0     140.0  241.0  0.0      1.0    123.0    1.0      0.2   \n",
       "3037  45.0  1.0  3.0     110.0  264.0  0.0      1.0    132.0    0.0      1.2   \n",
       "3038  68.0  1.0  0.0     144.0  193.0  1.0      1.0    141.0    0.0      3.4   \n",
       "3039  57.0  1.0  0.0     130.0  131.0  0.0      1.0    115.0    1.0      1.2   \n",
       "3040  57.0  0.0  1.0     130.0  236.0  0.0      0.0    174.0    0.0      0.0   \n",
       "\n",
       "      slope   ca  thal  target  \n",
       "0       0.0  0.0   1.0     1.0  \n",
       "1       0.0  0.0   2.0     1.0  \n",
       "2       2.0  0.0   2.0     1.0  \n",
       "3       2.0  0.0   2.0     1.0  \n",
       "4       2.0  0.0   2.0     1.0  \n",
       "...     ...  ...   ...     ...  \n",
       "3036    1.0  0.0   3.0     0.0  \n",
       "3037    1.0  0.0   3.0     0.0  \n",
       "3038    1.0  2.0   3.0     0.0  \n",
       "3039    1.0  1.0   3.0     0.0  \n",
       "3040    1.0  1.0   2.0     0.0  \n",
       "\n",
       "[3041 rows x 14 columns]"
      ]
     },
     "execution_count": 12,
     "metadata": {},
     "output_type": "execute_result"
    }
   ],
   "source": [
    "data"
   ]
  },
  {
   "cell_type": "code",
   "execution_count": 13,
   "metadata": {
    "execution": {
     "iopub.execute_input": "2021-07-18T12:39:31.432441Z",
     "iopub.status.busy": "2021-07-18T12:39:31.432083Z",
     "iopub.status.idle": "2021-07-18T12:39:31.447134Z",
     "shell.execute_reply": "2021-07-18T12:39:31.446061Z",
     "shell.execute_reply.started": "2021-07-18T12:39:31.432413Z"
    }
   },
   "outputs": [
    {
     "name": "stdout",
     "output_type": "stream",
     "text": [
      "<class 'pandas.core.frame.DataFrame'>\n",
      "RangeIndex: 3041 entries, 0 to 3040\n",
      "Data columns (total 14 columns):\n",
      " #   Column    Non-Null Count  Dtype  \n",
      "---  ------    --------------  -----  \n",
      " 0   age       3030 non-null   float64\n",
      " 1   sex       3030 non-null   float64\n",
      " 2   cp        3030 non-null   float64\n",
      " 3   trestbps  3030 non-null   float64\n",
      " 4   chol      3030 non-null   float64\n",
      " 5   fbs       3030 non-null   float64\n",
      " 6   restecg   3030 non-null   float64\n",
      " 7   thalach   3030 non-null   float64\n",
      " 8   exang     3030 non-null   float64\n",
      " 9   oldpeak   3030 non-null   float64\n",
      " 10  slope     3030 non-null   float64\n",
      " 11  ca        3030 non-null   float64\n",
      " 12  thal      3030 non-null   float64\n",
      " 13  target    3030 non-null   float64\n",
      "dtypes: float64(14)\n",
      "memory usage: 332.7 KB\n"
     ]
    }
   ],
   "source": [
    "data.info()"
   ]
  },
  {
   "cell_type": "markdown",
   "metadata": {
    "execution": {
     "iopub.execute_input": "2021-07-18T12:41:06.322447Z",
     "iopub.status.busy": "2021-07-18T12:41:06.322096Z",
     "iopub.status.idle": "2021-07-18T12:41:28.279834Z",
     "shell.execute_reply": "2021-07-18T12:41:28.278395Z",
     "shell.execute_reply.started": "2021-07-18T12:41:06.322419Z"
    }
   },
   "source": [
    "### Variable description"
   ]
  },
  {
   "cell_type": "markdown",
   "metadata": {},
   "source": [
    "1. age\n",
    "2. sex\n",
    "3. cp: chest pain type (4 values)\n",
    "4. trestbps : resting blood pressure\n",
    "5. chol : serum cholestoral in mg/dl\n",
    "6. fbs : fasting blood sugar > 120 mg/dl\n",
    "7. restecg : resting electrocardiographic results (values 0,1,2)\n",
    "8. thalach : maximum heart rate achieved\n",
    "9. exang : exercise induced angina\n",
    "10. oldpeak : ST depression induced by exercise relative to rest\n",
    "11. slope : the slope of the peak exercise ST segment\n",
    "12. ca : number of major vessels (0-3) colored by flourosopy\n",
    "13. thal : 0 = normal; 1 = fixed defect; 2 = reversable defect\n",
    "14. target : 0= less chance of heart attack 1= more chance of heart attack"
   ]
  },
  {
   "cell_type": "markdown",
   "metadata": {},
   "source": [
    "## EDA"
   ]
  },
  {
   "cell_type": "code",
   "execution_count": 35,
   "metadata": {
    "execution": {
     "iopub.execute_input": "2021-07-18T12:52:29.622844Z",
     "iopub.status.busy": "2021-07-18T12:52:29.622492Z",
     "iopub.status.idle": "2021-07-18T12:52:29.767208Z",
     "shell.execute_reply": "2021-07-18T12:52:29.765952Z",
     "shell.execute_reply.started": "2021-07-18T12:52:29.622815Z"
    }
   },
   "outputs": [
    {
     "data": {
      "text/plain": [
       "<AxesSubplot:xlabel='target', ylabel='count'>"
      ]
     },
     "execution_count": 35,
     "metadata": {},
     "output_type": "execute_result"
    },
    {
     "data": {
      "image/png": "[encoded data removed]",
      "text/plain": [
       "<Figure size 432x288 with 1 Axes>"
      ]
     },
     "metadata": {
      "needs_background": "light"
     },
     "output_type": "display_data"
    }
   ],
   "source": [
    "sns.countplot(x = 'target', data = data)\n"
   ]
  },
  {
   "cell_type": "code",
   "execution_count": 15,
   "metadata": {
    "execution": {
     "iopub.execute_input": "2021-07-18T12:54:05.518324Z",
     "iopub.status.busy": "2021-07-18T12:54:05.517755Z",
     "iopub.status.idle": "2021-07-18T12:54:05.680405Z",
     "shell.execute_reply": "2021-07-18T12:54:05.679443Z",
     "shell.execute_reply.started": "2021-07-18T12:54:05.518264Z"
    }
   },
   "outputs": [
    {
     "data": {
      "text/plain": [
       "<AxesSubplot:xlabel='sex', ylabel='count'>"
      ]
     },
     "execution_count": 15,
     "metadata": {},
     "output_type": "execute_result"
    },
    {
     "data": {
      "image/png": "[encoded data removed]",
      "text/plain": [
       "<Figure size 432x288 with 1 Axes>"
      ]
     },
     "metadata": {
      "needs_background": "light"
     },
     "output_type": "display_data"
    }
   ],
   "source": [
    "sns.countplot(x = 'sex', hue = 'target', data = data)"
   ]
  },
  {
   "cell_type": "code",
   "execution_count": 16,
   "metadata": {
    "execution": {
     "iopub.execute_input": "2021-07-18T12:54:42.405022Z",
     "iopub.status.busy": "2021-07-18T12:54:42.404584Z",
     "iopub.status.idle": "2021-07-18T12:54:42.591075Z",
     "shell.execute_reply": "2021-07-18T12:54:42.589794Z",
     "shell.execute_reply.started": "2021-07-18T12:54:42.404985Z"
    }
   },
   "outputs": [
    {
     "data": {
      "text/plain": [
       "<AxesSubplot:xlabel='cp', ylabel='count'>"
      ]
     },
     "execution_count": 16,
     "metadata": {},
     "output_type": "execute_result"
    },
    {
     "data": {
      "image/png": "[encoded data removed]",
      "text/plain": [
       "<Figure size 432x288 with 1 Axes>"
      ]
     },
     "metadata": {
      "needs_background": "light"
     },
     "output_type": "display_data"
    }
   ],
   "source": [
    "sns.countplot(x = 'cp', hue = 'target', data = data)"
   ]
  },
  {
   "cell_type": "code",
   "execution_count": 17,
   "metadata": {
    "execution": {
     "iopub.execute_input": "2021-07-18T12:54:47.637484Z",
     "iopub.status.busy": "2021-07-18T12:54:47.637124Z",
     "iopub.status.idle": "2021-07-18T12:54:47.816490Z",
     "shell.execute_reply": "2021-07-18T12:54:47.815353Z",
     "shell.execute_reply.started": "2021-07-18T12:54:47.637452Z"
    }
   },
   "outputs": [
    {
     "data": {
      "text/plain": [
       "<AxesSubplot:xlabel='fbs', ylabel='count'>"
      ]
     },
     "execution_count": 17,
     "metadata": {},
     "output_type": "execute_result"
    },
    {
     "data": {
      "image/png": "[encoded data removed]",
      "text/plain": [
       "<Figure size 432x288 with 1 Axes>"
      ]
     },
     "metadata": {
      "needs_background": "light"
     },
     "output_type": "display_data"
    }
   ],
   "source": [
    "sns.countplot(x = 'fbs', hue = 'target', data = data)"
   ]
  },
  {
   "cell_type": "code",
   "execution_count": 18,
   "metadata": {
    "execution": {
     "iopub.execute_input": "2021-07-18T12:54:55.557341Z",
     "iopub.status.busy": "2021-07-18T12:54:55.556997Z",
     "iopub.status.idle": "2021-07-18T12:54:55.728933Z",
     "shell.execute_reply": "2021-07-18T12:54:55.727897Z",
     "shell.execute_reply.started": "2021-07-18T12:54:55.557311Z"
    }
   },
   "outputs": [
    {
     "data": {
      "text/plain": [
       "<AxesSubplot:xlabel='restecg', ylabel='count'>"
      ]
     },
     "execution_count": 18,
     "metadata": {},
     "output_type": "execute_result"
    },
    {
     "data": {
      "image/png": "[encoded data removed]",
      "text/plain": [
       "<Figure size 432x288 with 1 Axes>"
      ]
     },
     "metadata": {
      "needs_background": "light"
     },
     "output_type": "display_data"
    }
   ],
   "source": [
    "sns.countplot(x = 'restecg', hue = 'target', data = data)"
   ]
  },
  {
   "cell_type": "code",
   "execution_count": 19,
   "metadata": {
    "execution": {
     "iopub.execute_input": "2021-07-18T12:55:01.037075Z",
     "iopub.status.busy": "2021-07-18T12:55:01.036720Z",
     "iopub.status.idle": "2021-07-18T12:55:01.211974Z",
     "shell.execute_reply": "2021-07-18T12:55:01.210997Z",
     "shell.execute_reply.started": "2021-07-18T12:55:01.037045Z"
    }
   },
   "outputs": [
    {
     "data": {
      "text/plain": [
       "<AxesSubplot:xlabel='exang', ylabel='count'>"
      ]
     },
     "execution_count": 19,
     "metadata": {},
     "output_type": "execute_result"
    },
    {
     "data": {
      "image/png": "[encoded data removed]",
      "text/plain": [
       "<Figure size 432x288 with 1 Axes>"
      ]
     },
     "metadata": {
      "needs_background": "light"
     },
     "output_type": "display_data"
    }
   ],
   "source": [
    "sns.countplot(x = 'exang', hue = 'target', data = data)"
   ]
  },
  {
   "cell_type": "code",
   "execution_count": 20,
   "metadata": {
    "execution": {
     "iopub.execute_input": "2021-07-18T12:55:06.876012Z",
     "iopub.status.busy": "2021-07-18T12:55:06.875652Z",
     "iopub.status.idle": "2021-07-18T12:55:07.051190Z",
     "shell.execute_reply": "2021-07-18T12:55:07.049985Z",
     "shell.execute_reply.started": "2021-07-18T12:55:06.875983Z"
    }
   },
   "outputs": [
    {
     "data": {
      "text/plain": [
       "<AxesSubplot:xlabel='slope', ylabel='count'>"
      ]
     },
     "execution_count": 20,
     "metadata": {},
     "output_type": "execute_result"
    },
    {
     "data": {
      "image/png": "[encoded data removed]",
      "text/plain": [
       "<Figure size 432x288 with 1 Axes>"
      ]
     },
     "metadata": {
      "needs_background": "light"
     },
     "output_type": "display_data"
    }
   ],
   "source": [
    "sns.countplot(x = 'slope', hue = 'target', data = data)"
   ]
  },
  {
   "cell_type": "code",
   "execution_count": 21,
   "metadata": {
    "execution": {
     "iopub.execute_input": "2021-07-18T12:56:43.536530Z",
     "iopub.status.busy": "2021-07-18T12:56:43.536174Z",
     "iopub.status.idle": "2021-07-18T12:56:43.730862Z",
     "shell.execute_reply": "2021-07-18T12:56:43.729583Z",
     "shell.execute_reply.started": "2021-07-18T12:56:43.536492Z"
    }
   },
   "outputs": [
    {
     "data": {
      "text/plain": [
       "<AxesSubplot:xlabel='ca', ylabel='count'>"
      ]
     },
     "execution_count": 21,
     "metadata": {},
     "output_type": "execute_result"
    },
    {
     "data": {
      "image/png": "[encoded data removed]",
      "text/plain": [
       "<Figure size 432x288 with 1 Axes>"
      ]
     },
     "metadata": {
      "needs_background": "light"
     },
     "output_type": "display_data"
    }
   ],
   "source": [
    "sns.countplot(x = 'ca', hue = 'target', data = data)"
   ]
  },
  {
   "cell_type": "code",
   "execution_count": 22,
   "metadata": {
    "execution": {
     "iopub.execute_input": "2021-07-18T12:55:16.022963Z",
     "iopub.status.busy": "2021-07-18T12:55:16.022546Z",
     "iopub.status.idle": "2021-07-18T12:55:16.212016Z",
     "shell.execute_reply": "2021-07-18T12:55:16.210947Z",
     "shell.execute_reply.started": "2021-07-18T12:55:16.022925Z"
    }
   },
   "outputs": [
    {
     "data": {
      "text/plain": [
       "<AxesSubplot:xlabel='thal', ylabel='count'>"
      ]
     },
     "execution_count": 22,
     "metadata": {},
     "output_type": "execute_result"
    },
    {
     "data": {
      "image/png": "[encoded data removed]",
      "text/plain": [
       "<Figure size 432x288 with 1 Axes>"
      ]
     },
     "metadata": {
      "needs_background": "light"
     },
     "output_type": "display_data"
    }
   ],
   "source": [
    "sns.countplot(x = 'thal', hue = 'target', data = data)"
   ]
  },
  {
   "cell_type": "code",
   "execution_count": 39,
   "metadata": {
    "execution": {
     "iopub.execute_input": "2021-07-18T13:07:04.966997Z",
     "iopub.status.busy": "2021-07-18T13:07:04.966636Z",
     "iopub.status.idle": "2021-07-18T13:07:05.144122Z",
     "shell.execute_reply": "2021-07-18T13:07:05.143173Z",
     "shell.execute_reply.started": "2021-07-18T13:07:04.966967Z"
    }
   },
   "outputs": [
    {
     "data": {
      "text/plain": [
       "(array([ 10.,   0.,   0.,  60.,   0.,  50.,  70., 100., 160., 110., 150.,\n",
       "        120.,  50., 190., 130., 240., 190., 170., 330., 110., 190., 190.,\n",
       "         80., 160.,  40.,  70.,  30.,   0.,  10.,  20.]),\n",
       " array([29. , 30.6, 32.2, 33.8, 35.4, 37. , 38.6, 40.2, 41.8, 43.4, 45. ,\n",
       "        46.6, 48.2, 49.8, 51.4, 53. , 54.6, 56.2, 57.8, 59.4, 61. , 62.6,\n",
       "        64.2, 65.8, 67.4, 69. , 70.6, 72.2, 73.8, 75.4, 77. ]),\n",
       " <BarContainer object of 30 artists>)"
      ]
     },
     "execution_count": 39,
     "metadata": {},
     "output_type": "execute_result"
    },
    {
     "data": {
      "image/png": "[encoded data removed]",
      "text/plain": [
       "<Figure size 432x288 with 1 Axes>"
      ]
     },
     "metadata": {
      "needs_background": "light"
     },
     "output_type": "display_data"
    }
   ],
   "source": [
    "plt.hist(data[\"age\"], bins = 30, color='orange')"
   ]
  },
  {
   "cell_type": "code",
   "execution_count": 24,
   "metadata": {
    "execution": {
     "iopub.execute_input": "2021-07-18T13:08:08.616255Z",
     "iopub.status.busy": "2021-07-18T13:08:08.615861Z",
     "iopub.status.idle": "2021-07-18T13:08:08.814693Z",
     "shell.execute_reply": "2021-07-18T13:08:08.813457Z",
     "shell.execute_reply.started": "2021-07-18T13:08:08.616224Z"
    }
   },
   "outputs": [
    {
     "data": {
      "text/plain": [
       "(array([ 20.,  50.,  30., 100., 190., 130.,  80., 410., 180., 160., 440.,\n",
       "        140., 130., 350.,  90., 190.,  60.,  20., 110.,  10.,  10.,  40.,\n",
       "         20.,  20.,  30.,   0.,   0.,  10.,   0.,  10.]),\n",
       " array([ 94.        ,  97.53333333, 101.06666667, 104.6       ,\n",
       "        108.13333333, 111.66666667, 115.2       , 118.73333333,\n",
       "        122.26666667, 125.8       , 129.33333333, 132.86666667,\n",
       "        136.4       , 139.93333333, 143.46666667, 147.        ,\n",
       "        150.53333333, 154.06666667, 157.6       , 161.13333333,\n",
       "        164.66666667, 168.2       , 171.73333333, 175.26666667,\n",
       "        178.8       , 182.33333333, 185.86666667, 189.4       ,\n",
       "        192.93333333, 196.46666667, 200.        ]),\n",
       " <BarContainer object of 30 artists>)"
      ]
     },
     "execution_count": 24,
     "metadata": {},
     "output_type": "execute_result"
    },
    {
     "data": {
      "image/png": "[encoded data removed]",
      "text/plain": [
       "<Figure size 432x288 with 1 Axes>"
      ]
     },
     "metadata": {
      "needs_background": "light"
     },
     "output_type": "display_data"
    }
   ],
   "source": [
    "plt.hist(data[\"trestbps\"], bins = 30)"
   ]
  },
  {
   "cell_type": "code",
   "execution_count": 25,
   "metadata": {
    "execution": {
     "iopub.execute_input": "2021-07-18T13:08:53.396859Z",
     "iopub.status.busy": "2021-07-18T13:08:53.396510Z",
     "iopub.status.idle": "2021-07-18T13:08:53.640985Z",
     "shell.execute_reply": "2021-07-18T13:08:53.639977Z",
     "shell.execute_reply.started": "2021-07-18T13:08:53.396829Z"
    }
   },
   "outputs": [
    {
     "data": {
      "text/plain": [
       "(array([ 20.,  10.,  20.,  20.,  50., 110.,  70.,  90., 240., 220., 180.,\n",
       "        230., 220., 230., 200., 180., 180., 140.,  90., 100., 150.,  60.,\n",
       "         70.,  40.,  30.,  10.,  20.,   0.,   0.,   0.,  10.,   0.,  20.,\n",
       "         10.,   0.,   0.,   0.,   0.,   0.,   0.,   0.,   0.,   0.,   0.,\n",
       "          0.,   0.,   0.,   0.,   0.,  10.]),\n",
       " array([126.  , 134.76, 143.52, 152.28, 161.04, 169.8 , 178.56, 187.32,\n",
       "        196.08, 204.84, 213.6 , 222.36, 231.12, 239.88, 248.64, 257.4 ,\n",
       "        266.16, 274.92, 283.68, 292.44, 301.2 , 309.96, 318.72, 327.48,\n",
       "        336.24, 345.  , 353.76, 362.52, 371.28, 380.04, 388.8 , 397.56,\n",
       "        406.32, 415.08, 423.84, 432.6 , 441.36, 450.12, 458.88, 467.64,\n",
       "        476.4 , 485.16, 493.92, 502.68, 511.44, 520.2 , 528.96, 537.72,\n",
       "        546.48, 555.24, 564.  ]),\n",
       " <BarContainer object of 50 artists>)"
      ]
     },
     "execution_count": 25,
     "metadata": {},
     "output_type": "execute_result"
    },
    {
     "data": {
      "image/png": "[encoded data removed]",
      "text/plain": [
       "<Figure size 432x288 with 1 Axes>"
      ]
     },
     "metadata": {
      "needs_background": "light"
     },
     "output_type": "display_data"
    }
   ],
   "source": [
    "plt.hist(data[\"chol\"], bins = 50)"
   ]
  },
  {
   "cell_type": "code",
   "execution_count": 26,
   "metadata": {
    "execution": {
     "iopub.execute_input": "2021-07-18T13:09:32.827103Z",
     "iopub.status.busy": "2021-07-18T13:09:32.826633Z",
     "iopub.status.idle": "2021-07-18T13:09:33.065791Z",
     "shell.execute_reply": "2021-07-18T13:09:33.064736Z",
     "shell.execute_reply.started": "2021-07-18T13:09:32.827041Z"
    }
   },
   "outputs": [
    {
     "data": {
      "text/plain": [
       "(array([ 10.,   0.,   0.,  10.,  10.,  40.,  10.,  50.,  50.,  90.,  70.,\n",
       "        100., 130., 170.,  50., 120., 270., 140., 220., 260., 290., 200.,\n",
       "        200., 230., 130.,  80.,  50.,  20.,  20.,  10.]),\n",
       " array([ 71.        ,  75.36666667,  79.73333333,  84.1       ,\n",
       "         88.46666667,  92.83333333,  97.2       , 101.56666667,\n",
       "        105.93333333, 110.3       , 114.66666667, 119.03333333,\n",
       "        123.4       , 127.76666667, 132.13333333, 136.5       ,\n",
       "        140.86666667, 145.23333333, 149.6       , 153.96666667,\n",
       "        158.33333333, 162.7       , 167.06666667, 171.43333333,\n",
       "        175.8       , 180.16666667, 184.53333333, 188.9       ,\n",
       "        193.26666667, 197.63333333, 202.        ]),\n",
       " <BarContainer object of 30 artists>)"
      ]
     },
     "execution_count": 26,
     "metadata": {},
     "output_type": "execute_result"
    },
    {
     "data": {
      "image/png": "[encoded data removed]",
      "text/plain": [
       "<Figure size 432x288 with 1 Axes>"
      ]
     },
     "metadata": {
      "needs_background": "light"
     },
     "output_type": "display_data"
    }
   ],
   "source": [
    "plt.hist(data[\"thalach\"], bins = 30)"
   ]
  },
  {
   "cell_type": "code",
   "execution_count": 27,
   "metadata": {
    "execution": {
     "iopub.execute_input": "2021-07-18T13:17:04.446959Z",
     "iopub.status.busy": "2021-07-18T13:17:04.446594Z",
     "iopub.status.idle": "2021-07-18T13:17:05.804226Z",
     "shell.execute_reply": "2021-07-18T13:17:05.803037Z",
     "shell.execute_reply.started": "2021-07-18T13:17:04.446927Z"
    }
   },
   "outputs": [
    {
     "data": {
      "image/png": "[encoded data removed]",
      "text/plain": [
       "<Figure size 1080x720 with 2 Axes>"
      ]
     },
     "metadata": {
      "needs_background": "light"
     },
     "output_type": "display_data"
    }
   ],
   "source": [
    "list = [\"age\",\"sex\",\"trestbps\",\"chol\",\"thalach\",\"oldpeak\", \"cp\", \"fbs\", \"restecg\", \"exang\", \"slope\", \"ca\", \"thal\", \"target\"]\n",
    "plt.figure(figsize=(15,10))\n",
    "sns.heatmap(data[list].corr(), annot=True, fmt=\".2f\")\n",
    "plt.show()"
   ]
  },
  {
   "cell_type": "markdown",
   "metadata": {},
   "source": [
    "## Train-CV-Test Split"
   ]
  },
  {
   "cell_type": "code",
   "execution_count": 57,
   "metadata": {
    "execution": {
     "iopub.execute_input": "2021-07-18T13:19:56.642765Z",
     "iopub.status.busy": "2021-07-18T13:19:56.642387Z",
     "iopub.status.idle": "2021-07-18T13:19:56.648543Z",
     "shell.execute_reply": "2021-07-18T13:19:56.647769Z",
     "shell.execute_reply.started": "2021-07-18T13:19:56.642734Z"
    }
   },
   "outputs": [],
   "source": [
    "x = data.drop([\"target\"], axis=1)\n",
    "y = data[\"target\"]"
   ]
  },
  {
   "cell_type": "code",
   "execution_count": 113,
   "metadata": {
    "execution": {
     "iopub.execute_input": "2021-07-18T13:52:29.832654Z",
     "iopub.status.busy": "2021-07-18T13:52:29.832244Z",
     "iopub.status.idle": "2021-07-18T13:52:29.839793Z",
     "shell.execute_reply": "2021-07-18T13:52:29.838564Z",
     "shell.execute_reply.started": "2021-07-18T13:52:29.832616Z"
    }
   },
   "outputs": [],
   "source": [
    "from sklearn.model_selection import train_test_split\n",
    "\n",
    "x_train, x_test, y_train, y_test = train_test_split(x, y, test_size=0.2)\n",
    "\n"
   ]
  },
  {
   "cell_type": "markdown",
   "metadata": {},
   "source": [
    "## Model Training"
   ]
  },
  {
   "cell_type": "code",
   "execution_count": 95,
   "metadata": {
    "execution": {
     "iopub.execute_input": "2021-07-18T13:45:57.146669Z",
     "iopub.status.busy": "2021-07-18T13:45:57.146325Z",
     "iopub.status.idle": "2021-07-18T13:45:57.151117Z",
     "shell.execute_reply": "2021-07-18T13:45:57.150474Z",
     "shell.execute_reply.started": "2021-07-18T13:45:57.146642Z"
    }
   },
   "outputs": [],
   "source": [
    "from sklearn.metrics import confusion_matrix,accuracy_score,roc_curve,classification_report\n",
    "from sklearn.linear_model import LogisticRegression\n",
    "from sklearn.naive_bayes import GaussianNB\n",
    "from sklearn.tree import DecisionTreeClassifier\n",
    "from sklearn.neighbors import KNeighborsClassifier\n",
    "from sklearn.naive_bayes import GaussianNB"
   ]
  },
  {
   "cell_type": "code",
   "execution_count": 114,
   "metadata": {
    "execution": {
     "iopub.execute_input": "2021-07-18T13:52:33.347885Z",
     "iopub.status.busy": "2021-07-18T13:52:33.347461Z",
     "iopub.status.idle": "2021-07-18T13:52:33.362662Z",
     "shell.execute_reply": "2021-07-18T13:52:33.361296Z",
     "shell.execute_reply.started": "2021-07-18T13:52:33.347841Z"
    }
   },
   "outputs": [],
   "source": [
    "from sklearn.preprocessing import StandardScaler\n",
    "\n",
    "scaler = StandardScaler()\n",
    "x_train = scaler.fit_transform(x_train)\n",
    "x_test = scaler.transform(x_test)"
   ]
  },
  {
   "cell_type": "code",
   "execution_count": 116,
   "metadata": {
    "execution": {
     "iopub.execute_input": "2021-07-18T13:54:49.933015Z",
     "iopub.status.busy": "2021-07-18T13:54:49.932575Z",
     "iopub.status.idle": "2021-07-18T13:54:49.951613Z",
     "shell.execute_reply": "2021-07-18T13:54:49.950312Z",
     "shell.execute_reply.started": "2021-07-18T13:54:49.932978Z"
    }
   },
   "outputs": [
    {
     "name": "stdout",
     "output_type": "stream",
     "text": [
      "[[19  7]\n",
      " [ 3 32]]\n",
      "0.8360655737704918\n"
     ]
    }
   ],
   "source": [
    "loreg = LogisticRegression(C = 10)\n",
    "\n",
    "loreg.fit(x_train, y_train)\n",
    "\n",
    "y_pred = loreg.predict(x_test)\n",
    "print(confusion_matrix(y_test, y_pred))\n",
    "print(accuracy_score(y_test, y_pred))\n"
   ]
  },
  {
   "cell_type": "code",
   "execution_count": 106,
   "metadata": {
    "execution": {
     "iopub.execute_input": "2021-07-18T13:50:46.371798Z",
     "iopub.status.busy": "2021-07-18T13:50:46.371221Z",
     "iopub.status.idle": "2021-07-18T13:50:46.384351Z",
     "shell.execute_reply": "2021-07-18T13:50:46.383378Z",
     "shell.execute_reply.started": "2021-07-18T13:50:46.371765Z"
    }
   },
   "outputs": [
    {
     "name": "stdout",
     "output_type": "stream",
     "text": [
      "[[25  5]\n",
      " [ 2 29]]\n",
      "0.8852459016393442\n"
     ]
    }
   ],
   "source": [
    "GNB = GaussianNB()\n",
    "\n",
    "GNB.fit(x_train, y_train)\n",
    "\n",
    "y_pred = GNB.predict(x_test)\n",
    "print(confusion_matrix(y_test, y_pred))\n",
    "print(accuracy_score(y_test, y_pred))\n"
   ]
  },
  {
   "cell_type": "code",
   "execution_count": 115,
   "metadata": {
    "execution": {
     "iopub.execute_input": "2021-07-18T13:52:37.746673Z",
     "iopub.status.busy": "2021-07-18T13:52:37.746282Z",
     "iopub.status.idle": "2021-07-18T13:52:37.763042Z",
     "shell.execute_reply": "2021-07-18T13:52:37.761614Z",
     "shell.execute_reply.started": "2021-07-18T13:52:37.746641Z"
    }
   },
   "outputs": [
    {
     "name": "stdout",
     "output_type": "stream",
     "text": [
      "[[22  4]\n",
      " [ 5 30]]\n",
      "0.8524590163934426\n"
     ]
    }
   ],
   "source": [
    "knn = KNeighborsClassifier(n_neighbors=10)\n",
    "knn.fit(x_train, y_train)\n",
    "\n",
    "y_pred = knn.predict(x_test)\n",
    "print(confusion_matrix(y_test, y_pred))\n",
    "print(accuracy_score(y_test, y_pred))"
   ]
  },
  {
   "cell_type": "markdown",
   "metadata": {},
   "source": [
    "## Observation"
   ]
  },
  {
   "cell_type": "markdown",
   "metadata": {},
   "source": [
    "Naive Baye's gives the best accuracy"
   ]
  }
 ],
 "metadata": {
  "kernelspec": {
   "display_name": "Python 3",
   "language": "python",
   "name": "python3"
  }
 },
 "nbformat": 4,
 "nbformat_minor": 4
}
